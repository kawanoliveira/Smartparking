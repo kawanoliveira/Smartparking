{
  "nbformat": 4,
  "nbformat_minor": 0,
  "metadata": {
    "colab": {
      "provenance": []
    },
    "kernelspec": {
      "name": "python3",
      "display_name": "Python 3"
    },
    "language_info": {
      "name": "python"
    }
  },
  "cells": [
    {
      "cell_type": "code",
      "execution_count": 3,
      "metadata": {
        "id": "utCKeijYMdxs"
      },
      "outputs": [],
      "source": [
        "##Processamento de grandes matrizes, juntamente com uma grande coleção de funções matemáticas de alto nível para operar sobre estas matrizes\n",
        "#Uso para possibilidar a alteração a base de dados original que está usando matrizes numpy\n",
        "import numpy as np\n",
        "\n",
        "##Criação de gráficos e visualizações de dados em geral\n",
        "#Usei anteriormente para verificar imagens\n",
        "import matplotlib.pyplot as plt\n",
        "\n",
        "##Biblioteca de aprendizado de máquina de código aberto para a linguagem de programação\n",
        "#O módulo implementa diversas funções de perda, pontuação e utilidade para medir o desempenho da classificação\n",
        "from sklearn.metrics import accuracy_score, confusion_matrix, ConfusionMatrixDisplay\n",
        "\n",
        "##Biblioteca de código aberto para aprendizado de máquina aplicável a uma ampla variedade de tarefas\n",
        "import tensorflow as tf\n",
        "#keras => API de alto nível do TensorFlow para criar e treinar modelos de aprendizado profundo\n",
        "from tensorflow.keras import models, datasets, layers #Modelos, Banco de Dados, Camadas\n",
        "from tensorflow.keras.models import load_model #Bilioteca capaz carregar a IA salvada"
      ]
    },
    {
      "cell_type": "code",
      "source": [
        "#Usar keras.datasets para carregar a base de bados cifar100, já separado em x(imagens) e y(classificação) de treino e de teste\n",
        "(x_train, y_train), (x_test, y_test) = tf.keras.datasets.cifar100.load_data()\n",
        "\n",
        "#Uso somente para verificar sua forma antes de alterá-lo\n",
        "print(x_train.shape) #(Quantidade, formato...)\n",
        "print(y_train.shape)\n",
        "print(x_test.shape)\n",
        "print(y_test.shape)"
      ],
      "metadata": {
        "id": "PItatt3RNBBu",
        "colab": {
          "base_uri": "https://localhost:8080/"
        },
        "outputId": "5ead5bb1-a5eb-4841-fd96-3498bc3fdec3"
      },
      "execution_count": 4,
      "outputs": [
        {
          "output_type": "stream",
          "name": "stdout",
          "text": [
            "(50000, 32, 32, 3)\n",
            "(50000, 1)\n",
            "(10000, 32, 32, 3)\n",
            "(10000, 1)\n"
          ]
        }
      ]
    },
    {
      "cell_type": "code",
      "source": [
        "###Retirar tudo não relacionado a veículos da base de dados\n",
        "\n",
        "#Crio uma lista com o numero correspondente de cada classificação de veículo\n",
        "veiculos = [8, 13, 41, 48, 58, 69, 81, 85, 89, 90] #['bicycle' , 'bus',  'lawn_mower', 'motorcycle', 'pickup_truck', 'rocket', 'streetcar', 'tank', 'tractor', 'train']\n",
        "\n",
        "##Crio uma Máscara para filtrar tudo que não está dentro da lista de veiculos no treino e no teste\n",
        "index_train = [i for i in range(len(y_train)) if y_train[i] not in veiculos]\n",
        "index_test = [i for i in range(len(y_test)) if y_test[i] not in veiculos]\n",
        "\n",
        "##Deleta tudo que a mascara confirmar não ser da lista veiculo\n",
        "#Usa numpy pois datasets usa lista numpy, usa sua função delete\n",
        "x_train = np.delete(x_train, index_train, axis=0)\n",
        "y_train = np.delete(y_train, index_train, axis=0)\n",
        "\n",
        "x_test = np.delete(x_test, index_test, axis=0)\n",
        "y_test = np.delete(y_test, index_test, axis=0)\n",
        "\n",
        "#Verificar se sua forma alterou e ver nova quantidade de imagens.\n",
        "print(x_train.shape)\n",
        "print(y_train.shape)\n",
        "print(x_test.shape)\n",
        "print(y_test.shape)"
      ],
      "metadata": {
        "colab": {
          "base_uri": "https://localhost:8080/"
        },
        "id": "OEu8ze8yFTr8",
        "outputId": "9200f0d0-2ac6-4f89-c359-38549bffa268"
      },
      "execution_count": 5,
      "outputs": [
        {
          "output_type": "stream",
          "name": "stdout",
          "text": [
            "(5000, 32, 32, 3)\n",
            "(5000, 1)\n",
            "(1000, 32, 32, 3)\n",
            "(1000, 1)\n"
          ]
        }
      ]
    },
    {
      "cell_type": "code",
      "source": [
        "#Normalizacão de dados imagens\n",
        "x_train = x_train / 255\n",
        "x_test = x_test / 255\n",
        "\n",
        "#Troca valores numericos de Y para facilidar sua analise, numeros altos geram matrices de saída enormes (90 do 'train' gerava 90 colunas de saída)\n",
        "for i in range(1, len(veiculos)+1):\n",
        "  y_train[y_train == veiculos[i-1]] = i\n",
        "  y_test[y_test == veiculos[i-1]] = i"
      ],
      "metadata": {
        "id": "7AeuJy_lS8m1"
      },
      "execution_count": 6,
      "outputs": []
    },
    {
      "cell_type": "code",
      "source": [
        "###Para a classificação de imagens iremos usar MLP\n",
        "\n",
        "##Usa Sequential, funçaõ que cria modelo especificando cada camada o tipo, quantidade neuronios e funcao de ativação\n",
        "Vei = models.Sequential([\n",
        "    #DENSE(MLP)=> camada densa(totalmente conectada), um tipo de camada em que cada neurônio está conectado a todos os neurônios da camada anterior\n",
        "    layers.Flatten(input_shape = (32,32,3)), #Usamos Flatten para tranformar os dados em linha, pois uma camada densa espera vetor linha\n",
        "    layers.Dense(100, activation='relu'),  #(Numero de neuronios, função de ativação)\n",
        "    layers.Dense(50, activation='relu'),  #(Numero de neuronios, função de ativação)\n",
        "    layers.Dense(11, activation='softmax'),\n",
        "])\n",
        "\n",
        "\n",
        "#Configura modelo para treinamento.\n",
        "Vei.compile(optimizer='adam',  #Otimizador do Modelo, usa algoritmo Adam\n",
        "            loss='sparse_categorical_crossentropy',  #Calcula a perda de entropia cruzada entre os rótulos e as previsões.\n",
        "            metrics=['accuracy'])  #Calcula com que frequência as previsões equivalem aos rótulos.\n",
        "\n",
        "#Começa treino com modelo criado, inserindo as imagens(x), classificaçoes(y) e numero de repetiçoes do treino\n",
        "Vei.fit(x_train, y_train, epochs=15)"
      ],
      "metadata": {
        "colab": {
          "base_uri": "https://localhost:8080/"
        },
        "id": "44myQd1pUWke",
        "outputId": "748ee045-5b17-457d-be02-31f5a804de1c"
      },
      "execution_count": 13,
      "outputs": [
        {
          "output_type": "stream",
          "name": "stdout",
          "text": [
            "Epoch 1/15\n",
            "\u001b[1m157/157\u001b[0m \u001b[32m━━━━━━━━━━━━━━━━━━━━\u001b[0m\u001b[37m\u001b[0m \u001b[1m2s\u001b[0m 6ms/step - accuracy: 0.1996 - loss: 2.2592\n",
            "Epoch 2/15\n",
            "\u001b[1m157/157\u001b[0m \u001b[32m━━━━━━━━━━━━━━━━━━━━\u001b[0m\u001b[37m\u001b[0m \u001b[1m1s\u001b[0m 6ms/step - accuracy: 0.3160 - loss: 1.9188\n",
            "Epoch 3/15\n",
            "\u001b[1m157/157\u001b[0m \u001b[32m━━━━━━━━━━━━━━━━━━━━\u001b[0m\u001b[37m\u001b[0m \u001b[1m1s\u001b[0m 6ms/step - accuracy: 0.3583 - loss: 1.8480\n",
            "Epoch 4/15\n",
            "\u001b[1m157/157\u001b[0m \u001b[32m━━━━━━━━━━━━━━━━━━━━\u001b[0m\u001b[37m\u001b[0m \u001b[1m2s\u001b[0m 7ms/step - accuracy: 0.3766 - loss: 1.7665\n",
            "Epoch 5/15\n",
            "\u001b[1m157/157\u001b[0m \u001b[32m━━━━━━━━━━━━━━━━━━━━\u001b[0m\u001b[37m\u001b[0m \u001b[1m2s\u001b[0m 10ms/step - accuracy: 0.4107 - loss: 1.7054\n",
            "Epoch 6/15\n",
            "\u001b[1m157/157\u001b[0m \u001b[32m━━━━━━━━━━━━━━━━━━━━\u001b[0m\u001b[37m\u001b[0m \u001b[1m2s\u001b[0m 6ms/step - accuracy: 0.4293 - loss: 1.6670\n",
            "Epoch 7/15\n",
            "\u001b[1m157/157\u001b[0m \u001b[32m━━━━━━━━━━━━━━━━━━━━\u001b[0m\u001b[37m\u001b[0m \u001b[1m1s\u001b[0m 6ms/step - accuracy: 0.4386 - loss: 1.6357\n",
            "Epoch 8/15\n",
            "\u001b[1m157/157\u001b[0m \u001b[32m━━━━━━━━━━━━━━━━━━━━\u001b[0m\u001b[37m\u001b[0m \u001b[1m1s\u001b[0m 6ms/step - accuracy: 0.4320 - loss: 1.6386\n",
            "Epoch 9/15\n",
            "\u001b[1m157/157\u001b[0m \u001b[32m━━━━━━━━━━━━━━━━━━━━\u001b[0m\u001b[37m\u001b[0m \u001b[1m1s\u001b[0m 6ms/step - accuracy: 0.4512 - loss: 1.5923\n",
            "Epoch 10/15\n",
            "\u001b[1m157/157\u001b[0m \u001b[32m━━━━━━━━━━━━━━━━━━━━\u001b[0m\u001b[37m\u001b[0m \u001b[1m1s\u001b[0m 6ms/step - accuracy: 0.4646 - loss: 1.5522\n",
            "Epoch 11/15\n",
            "\u001b[1m157/157\u001b[0m \u001b[32m━━━━━━━━━━━━━━━━━━━━\u001b[0m\u001b[37m\u001b[0m \u001b[1m1s\u001b[0m 6ms/step - accuracy: 0.4565 - loss: 1.5848\n",
            "Epoch 12/15\n",
            "\u001b[1m157/157\u001b[0m \u001b[32m━━━━━━━━━━━━━━━━━━━━\u001b[0m\u001b[37m\u001b[0m \u001b[1m1s\u001b[0m 6ms/step - accuracy: 0.4781 - loss: 1.5107\n",
            "Epoch 13/15\n",
            "\u001b[1m157/157\u001b[0m \u001b[32m━━━━━━━━━━━━━━━━━━━━\u001b[0m\u001b[37m\u001b[0m \u001b[1m1s\u001b[0m 6ms/step - accuracy: 0.4869 - loss: 1.4842\n",
            "Epoch 14/15\n",
            "\u001b[1m157/157\u001b[0m \u001b[32m━━━━━━━━━━━━━━━━━━━━\u001b[0m\u001b[37m\u001b[0m \u001b[1m2s\u001b[0m 10ms/step - accuracy: 0.4972 - loss: 1.4425\n",
            "Epoch 15/15\n",
            "\u001b[1m157/157\u001b[0m \u001b[32m━━━━━━━━━━━━━━━━━━━━\u001b[0m\u001b[37m\u001b[0m \u001b[1m2s\u001b[0m 6ms/step - accuracy: 0.5122 - loss: 1.4179\n"
          ]
        },
        {
          "output_type": "execute_result",
          "data": {
            "text/plain": [
              "<keras.src.callbacks.history.History at 0x7bab793f0b20>"
            ]
          },
          "metadata": {},
          "execution_count": 13
        }
      ]
    },
    {
      "cell_type": "code",
      "source": [
        "#Avalia o medelo geral, mostrando uma porcentagem de acuracia nas suas previsões\n",
        "Vei.evaluate(x_test,y_test)"
      ],
      "metadata": {
        "colab": {
          "base_uri": "https://localhost:8080/"
        },
        "id": "NgaytzGOdFeg",
        "outputId": "408e352a-2d00-4589-c308-aeaf63d0dc87"
      },
      "execution_count": 14,
      "outputs": [
        {
          "output_type": "stream",
          "name": "stdout",
          "text": [
            "\u001b[1m32/32\u001b[0m \u001b[32m━━━━━━━━━━━━━━━━━━━━\u001b[0m\u001b[37m\u001b[0m \u001b[1m0s\u001b[0m 3ms/step - accuracy: 0.4605 - loss: 1.6354\n"
          ]
        },
        {
          "output_type": "execute_result",
          "data": {
            "text/plain": [
              "[1.6190896034240723, 0.45399999618530273]"
            ]
          },
          "metadata": {},
          "execution_count": 14
        }
      ]
    },
    {
      "cell_type": "code",
      "source": [
        "##Salvar modelo completo(arquitetura + peso) na pasta atual\n",
        "Vei.save('cifar100_models.keras')\n",
        "\n",
        "##Carrega o modelo\n",
        "model=load_model('cifar100_models.keras')\n",
        "\n",
        "#Informa sobre nosso modelo\n",
        "Vei.summary()"
      ],
      "metadata": {
        "colab": {
          "base_uri": "https://localhost:8080/",
          "height": 285
        },
        "id": "gbjdYAosb9oi",
        "outputId": "73eeecc8-2e7e-4ba8-ce4a-a277c423f675"
      },
      "execution_count": 126,
      "outputs": [
        {
          "output_type": "display_data",
          "data": {
            "text/plain": [
              "\u001b[1mModel: \"sequential_31\"\u001b[0m\n"
            ],
            "text/html": [
              "<pre style=\"white-space:pre;overflow-x:auto;line-height:normal;font-family:Menlo,'DejaVu Sans Mono',consolas,'Courier New',monospace\"><span style=\"font-weight: bold\">Model: \"sequential_31\"</span>\n",
              "</pre>\n"
            ]
          },
          "metadata": {}
        },
        {
          "output_type": "display_data",
          "data": {
            "text/plain": [
              "┏━━━━━━━━━━━━━━━━━━━━━━━━━━━━━━━━━━━━━━┳━━━━━━━━━━━━━━━━━━━━━━━━━━━━━┳━━━━━━━━━━━━━━━━━┓\n",
              "┃\u001b[1m \u001b[0m\u001b[1mLayer (type)                        \u001b[0m\u001b[1m \u001b[0m┃\u001b[1m \u001b[0m\u001b[1mOutput Shape               \u001b[0m\u001b[1m \u001b[0m┃\u001b[1m \u001b[0m\u001b[1m        Param #\u001b[0m\u001b[1m \u001b[0m┃\n",
              "┡━━━━━━━━━━━━━━━━━━━━━━━━━━━━━━━━━━━━━━╇━━━━━━━━━━━━━━━━━━━━━━━━━━━━━╇━━━━━━━━━━━━━━━━━┩\n",
              "│ flatten_31 (\u001b[38;5;33mFlatten\u001b[0m)                 │ (\u001b[38;5;45mNone\u001b[0m, \u001b[38;5;34m3072\u001b[0m)                │               \u001b[38;5;34m0\u001b[0m │\n",
              "├──────────────────────────────────────┼─────────────────────────────┼─────────────────┤\n",
              "│ dense_77 (\u001b[38;5;33mDense\u001b[0m)                     │ (\u001b[38;5;45mNone\u001b[0m, \u001b[38;5;34m160\u001b[0m)                 │         \u001b[38;5;34m491,680\u001b[0m │\n",
              "├──────────────────────────────────────┼─────────────────────────────┼─────────────────┤\n",
              "│ dense_78 (\u001b[38;5;33mDense\u001b[0m)                     │ (\u001b[38;5;45mNone\u001b[0m, \u001b[38;5;34m90\u001b[0m)                  │          \u001b[38;5;34m14,490\u001b[0m │\n",
              "├──────────────────────────────────────┼─────────────────────────────┼─────────────────┤\n",
              "│ dense_79 (\u001b[38;5;33mDense\u001b[0m)                     │ (\u001b[38;5;45mNone\u001b[0m, \u001b[38;5;34m11\u001b[0m)                  │           \u001b[38;5;34m1,001\u001b[0m │\n",
              "└──────────────────────────────────────┴─────────────────────────────┴─────────────────┘\n"
            ],
            "text/html": [
              "<pre style=\"white-space:pre;overflow-x:auto;line-height:normal;font-family:Menlo,'DejaVu Sans Mono',consolas,'Courier New',monospace\">┏━━━━━━━━━━━━━━━━━━━━━━━━━━━━━━━━━━━━━━┳━━━━━━━━━━━━━━━━━━━━━━━━━━━━━┳━━━━━━━━━━━━━━━━━┓\n",
              "┃<span style=\"font-weight: bold\"> Layer (type)                         </span>┃<span style=\"font-weight: bold\"> Output Shape                </span>┃<span style=\"font-weight: bold\">         Param # </span>┃\n",
              "┡━━━━━━━━━━━━━━━━━━━━━━━━━━━━━━━━━━━━━━╇━━━━━━━━━━━━━━━━━━━━━━━━━━━━━╇━━━━━━━━━━━━━━━━━┩\n",
              "│ flatten_31 (<span style=\"color: #0087ff; text-decoration-color: #0087ff\">Flatten</span>)                 │ (<span style=\"color: #00d7ff; text-decoration-color: #00d7ff\">None</span>, <span style=\"color: #00af00; text-decoration-color: #00af00\">3072</span>)                │               <span style=\"color: #00af00; text-decoration-color: #00af00\">0</span> │\n",
              "├──────────────────────────────────────┼─────────────────────────────┼─────────────────┤\n",
              "│ dense_77 (<span style=\"color: #0087ff; text-decoration-color: #0087ff\">Dense</span>)                     │ (<span style=\"color: #00d7ff; text-decoration-color: #00d7ff\">None</span>, <span style=\"color: #00af00; text-decoration-color: #00af00\">160</span>)                 │         <span style=\"color: #00af00; text-decoration-color: #00af00\">491,680</span> │\n",
              "├──────────────────────────────────────┼─────────────────────────────┼─────────────────┤\n",
              "│ dense_78 (<span style=\"color: #0087ff; text-decoration-color: #0087ff\">Dense</span>)                     │ (<span style=\"color: #00d7ff; text-decoration-color: #00d7ff\">None</span>, <span style=\"color: #00af00; text-decoration-color: #00af00\">90</span>)                  │          <span style=\"color: #00af00; text-decoration-color: #00af00\">14,490</span> │\n",
              "├──────────────────────────────────────┼─────────────────────────────┼─────────────────┤\n",
              "│ dense_79 (<span style=\"color: #0087ff; text-decoration-color: #0087ff\">Dense</span>)                     │ (<span style=\"color: #00d7ff; text-decoration-color: #00d7ff\">None</span>, <span style=\"color: #00af00; text-decoration-color: #00af00\">11</span>)                  │           <span style=\"color: #00af00; text-decoration-color: #00af00\">1,001</span> │\n",
              "└──────────────────────────────────────┴─────────────────────────────┴─────────────────┘\n",
              "</pre>\n"
            ]
          },
          "metadata": {}
        },
        {
          "output_type": "display_data",
          "data": {
            "text/plain": [
              "\u001b[1m Total params: \u001b[0m\u001b[38;5;34m1,521,515\u001b[0m (5.80 MB)\n"
            ],
            "text/html": [
              "<pre style=\"white-space:pre;overflow-x:auto;line-height:normal;font-family:Menlo,'DejaVu Sans Mono',consolas,'Courier New',monospace\"><span style=\"font-weight: bold\"> Total params: </span><span style=\"color: #00af00; text-decoration-color: #00af00\">1,521,515</span> (5.80 MB)\n",
              "</pre>\n"
            ]
          },
          "metadata": {}
        },
        {
          "output_type": "display_data",
          "data": {
            "text/plain": [
              "\u001b[1m Trainable params: \u001b[0m\u001b[38;5;34m507,171\u001b[0m (1.93 MB)\n"
            ],
            "text/html": [
              "<pre style=\"white-space:pre;overflow-x:auto;line-height:normal;font-family:Menlo,'DejaVu Sans Mono',consolas,'Courier New',monospace\"><span style=\"font-weight: bold\"> Trainable params: </span><span style=\"color: #00af00; text-decoration-color: #00af00\">507,171</span> (1.93 MB)\n",
              "</pre>\n"
            ]
          },
          "metadata": {}
        },
        {
          "output_type": "display_data",
          "data": {
            "text/plain": [
              "\u001b[1m Non-trainable params: \u001b[0m\u001b[38;5;34m0\u001b[0m (0.00 B)\n"
            ],
            "text/html": [
              "<pre style=\"white-space:pre;overflow-x:auto;line-height:normal;font-family:Menlo,'DejaVu Sans Mono',consolas,'Courier New',monospace\"><span style=\"font-weight: bold\"> Non-trainable params: </span><span style=\"color: #00af00; text-decoration-color: #00af00\">0</span> (0.00 B)\n",
              "</pre>\n"
            ]
          },
          "metadata": {}
        },
        {
          "output_type": "display_data",
          "data": {
            "text/plain": [
              "\u001b[1m Optimizer params: \u001b[0m\u001b[38;5;34m1,014,344\u001b[0m (3.87 MB)\n"
            ],
            "text/html": [
              "<pre style=\"white-space:pre;overflow-x:auto;line-height:normal;font-family:Menlo,'DejaVu Sans Mono',consolas,'Courier New',monospace\"><span style=\"font-weight: bold\"> Optimizer params: </span><span style=\"color: #00af00; text-decoration-color: #00af00\">1,014,344</span> (3.87 MB)\n",
              "</pre>\n"
            ]
          },
          "metadata": {}
        }
      ]
    },
    {
      "cell_type": "code",
      "source": [
        "###Matriz de confusão do conjunto de treino(Traz uma ideia do numero de acertos da IA)\n",
        "\n",
        "#Faz previsões no conjunto de teste\n",
        "y_pred = np.argmax(Vei.predict(x_test), axis=1)\n",
        "\n",
        "#Calcula matrix de confusao\n",
        "conf_matrix = confusion_matrix(y_test, y_pred)\n",
        "\n",
        "#Exibe matrix de confusão\n",
        "ConfusionMatrixDisplay(conf_matrix).plot(cmap='Blues')"
      ],
      "metadata": {
        "colab": {
          "base_uri": "https://localhost:8080/",
          "height": 484
        },
        "id": "Z7NjEfRQdUV7",
        "outputId": "b79371e6-1a3c-4233-e4b5-479fed87b46c"
      },
      "execution_count": null,
      "outputs": [
        {
          "output_type": "stream",
          "name": "stdout",
          "text": [
            "\u001b[1m32/32\u001b[0m \u001b[32m━━━━━━━━━━━━━━━━━━━━\u001b[0m\u001b[37m\u001b[0m \u001b[1m1s\u001b[0m 16ms/step\n"
          ]
        },
        {
          "output_type": "execute_result",
          "data": {
            "text/plain": [
              "<sklearn.metrics._plot.confusion_matrix.ConfusionMatrixDisplay at 0x7c861cc78f40>"
            ]
          },
          "metadata": {},
          "execution_count": 35
        },
        {
          "output_type": "display_data",
          "data": {
            "text/plain": [
              "<Figure size 640x480 with 2 Axes>"
            ],
            "image/png": "[encoded data removed]"
          },
          "metadata": {}
        }
      ]
    },
    {
      "cell_type": "code",
      "source": [
        "#Nome das classes  [8, 13, 48, 58, 69, 81, 85, 89, 90] => [1, 2, 3, 4, 5, 6, 7, 8, 9, 10]\n",
        "class_names = ['bicycle' , 'bus',  'lawn_mower', 'motorcycle', 'pickup_truck', 'rocket', 'streetcar', 'tank', 'tractor', 'train']"
      ],
      "metadata": {
        "id": "a1J_fRYoP1bh"
      },
      "execution_count": null,
      "outputs": []
    },
    {
      "cell_type": "code",
      "source": [
        "##Fazendo previsões com modelo carregado\n",
        "\n",
        "#Simula nova entrada: seleciona uma imagem aleatoria do conjuto de teste\n",
        "random_idx = np.random.randint(0, x_test.shape[0])\n",
        "new_input= x_test[random_idx].reshape(1, 32, 32, 3) #Redimensiona para formado esperado pelo modelo\n",
        "\n",
        "#Faz previsão\n",
        "prediction= Vei.predict(new_input)\n",
        "predict_class=np.argmax(prediction)\n",
        "\n",
        "#Obtem a classe original\n",
        "original_class=y_test[random_idx]\n",
        "print(original_class)\n",
        "\n",
        "#Exibe imagem entrada e suas classes\n",
        "plt.figure(figsize=(6,3))\n",
        "plt.subplot(1,2,1)\n",
        "plt.imshow(new_input[0], cmap='gray')\n",
        "plt.title(\"Classe original: \"+class_names[original_class[0]-1])\n",
        "plt.axis('off')\n",
        "\n",
        "plt.subplot(1,2,2)\n",
        "plt.bar([0,1],[prediction[0, original_class[0]],1-prediction[0, original_class[0]]], color=['blue', 'red'])\n",
        "plt.xticks([0,1], ['Classe predita', 'Probabilidade'])\n",
        "plt.title(f'Classe predita: {class_names[predict_class-1]}')\n",
        "plt.show()\n",
        "\n",
        "print(\"Classe prevista: \"+class_names[predict_class-1])\n",
        "print(\"Classe original: \"+class_names[original_class[0]-1])"
      ],
      "metadata": {
        "colab": {
          "base_uri": "https://localhost:8080/",
          "height": 383
        },
        "id": "LkWy7sLuea9t",
        "outputId": "de8ef49b-ee57-4739-a59c-5a7b9aad630c"
      },
      "execution_count": null,
      "outputs": [
        {
          "output_type": "stream",
          "name": "stdout",
          "text": [
            "\u001b[1m1/1\u001b[0m \u001b[32m━━━━━━━━━━━━━━━━━━━━\u001b[0m\u001b[37m\u001b[0m \u001b[1m0s\u001b[0m 21ms/step\n",
            "[9]\n"
          ]
        },
        {
          "output_type": "display_data",
          "data": {
            "text/plain": [
              "<Figure size 600x300 with 2 Axes>"
            ],
            "image/png": "[encoded data removed]"
          },
          "metadata": {}
        },
        {
          "output_type": "stream",
          "name": "stdout",
          "text": [
            "Classe prevista: pickup_truck\n",
            "Classe original: tractor\n"
          ]
        }
      ]
    }
  ]
}